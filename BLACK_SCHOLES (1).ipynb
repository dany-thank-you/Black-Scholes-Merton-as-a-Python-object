{
  "nbformat": 4,
  "nbformat_minor": 0,
  "metadata": {
    "colab": {
      "name": "BLACK-SCHOLES.ipynb",
      "provenance": [],
      "collapsed_sections": []
    },
    "kernelspec": {
      "name": "python3",
      "display_name": "Python 3"
    },
    "language_info": {
      "name": "python"
    }
  },
  "cells": [
    {
      "cell_type": "code",
      "metadata": {
        "id": "Soy9owC7fTvh"
      },
      "source": [
        "## import certain packages\n",
        "from math import log, sqrt, pi, exp, e\n",
        "from scipy.stats import norm\n",
        "from datetime import datetime, date\n",
        "import numpy as np\n",
        "import pandas as pd\n",
        "from pprint import pprint\n",
        "import matplotlib.pyplot as plt"
      ],
      "execution_count": 2,
      "outputs": []
    },
    {
      "cell_type": "code",
      "metadata": {
        "id": "cVHFr5XSRUQE"
      },
      "source": [
        "# PARAMETERS\n",
        "# Option type option_type :: call : 'c' or put : 'p'\n",
        "# Underlying price (per share): S; \n",
        "# Strike price of the option (per share): K;\n",
        "# Time to maturity (in % of years): t;\n",
        "# Continuously compounding risk-free interest rate: r;\n",
        "# Dividend yield : q;\n",
        "# One of those:\n",
        "#   1. Volatility: sigma;\n",
        "#   2. Price: P;\n",
        "\n",
        "class Option():\n",
        "  def __init__(self, option_type, S, K, t, r, q, **kwargs):\n",
        "\n",
        "    def get_implied_volatility(Price):\n",
        "      sigma = 0.001\n",
        "      if option_type == 'c':\n",
        "          while sigma < 10:\n",
        "            d1_ = (log(S/K)+((r-q)+0.5*sigma**2)*t) / (sigma*sqrt(t))\n",
        "            d2_ = d1_- sigma*sqrt(t)\n",
        "            Price_implied = S*exp(-q*t)*norm.cdf(d1_)-K*exp(-r*t)*norm.cdf(d2_)\n",
        "            if Price-(Price_implied) < 0.001:\n",
        "                return round(sigma,3)\n",
        "            sigma += 0.001\n",
        "      if option_type == 'p':\n",
        "          while sigma < 10:\n",
        "            d1_ = (log(S/K)+((r-q)+0.5*sigma**2)*t) / (sigma*sqrt(t))\n",
        "            d2_ = d1_- sigma*sqrt(t)\n",
        "            Price_implied = K*exp(-r*t) * norm.cdf(-d2_) - ( S * exp(-q*t)) * norm.cdf(-d1_)\n",
        "            if Price-(Price_implied) < 0.001:\n",
        "                return round(sigma,3)\n",
        "            sigma += 0.001\n",
        "\n",
        "    # DEFINE IMPLIED VOLATILITY OR PRICE\n",
        "    if 'sigma' in kwargs:\n",
        "      if 'P' in kwargs:\n",
        "        raise Exception('Can\\'t compute price (P) and volatility (sigma) at the same time')\n",
        "      else:\n",
        "        self.sigma = kwargs['sigma']\n",
        "        self.d1 = (log(S/K)+((r-q)+0.5*self.sigma**2)*t) / (self.sigma*sqrt(t))\n",
        "        self.d2 = self.d1-self.sigma*sqrt(t)\n",
        "\n",
        "      if option_type == 'c':\n",
        "        self.P = round( ( S * exp(-q*t)) * norm.cdf(self.d1) - K*exp(-r*t) * norm.cdf(self.d2), 2 )\n",
        "      if option_type == 'p':\n",
        "        self.P = round( K*exp(-r*t) * norm.cdf(-self.d2) - ( S * exp(-q*t)) * norm.cdf(-self.d1), 2 )\n",
        "    \n",
        "    if 'P' in kwargs:\n",
        "      if 'sigma' in kwargs:\n",
        "        raise Exception('Can\\'t compute price (P) and volatility (sigma) at the same time')\n",
        "      else:\n",
        "        self.P = kwargs['P']\n",
        "        self.sigma = self.iv = get_implied_volatility(self.P)\n",
        "        self.d1 = (log(S/K)+((r-q)+0.5*self.sigma**2)*t) / (self.sigma*sqrt(t))\n",
        "        self.d2 = self.d1-self.sigma*sqrt(t)\n",
        "    \n",
        "    # GREEKS\n",
        "\n",
        "    self.greeks = {\n",
        "        'gamma' : (exp(-q*t) / (S*self.sigma*sqrt(t))) * norm.pdf(self.d1),\n",
        "        'vega' : 0.01*(S*exp(-q*t)*norm.pdf(self.d1)*sqrt(t)),\n",
        "        'vanna' : -exp(-q*t)*norm.pdf(self.d1)*self.d2/self.sigma\n",
        "    }\n",
        "\n",
        "    if option_type == 'c':\n",
        "      self.greeks['delta'] = exp(-q*t) * norm.cdf(self.d1)\n",
        "      self.greeks['theta'] = 1/365 * (-exp(-q*t)*(S*norm.pdf(self.d1)*self.sigma)/(2*sqrt(t)) - r*K*exp(-r*t)*norm.cdf(self.d2) + q*S*exp(-q*t)*norm.cdf(self.d1))\n",
        "      self.greeks['rho'] = K*t*exp(-r*t)*norm.cdf(self.d2)\n",
        "      self.greeks['epsilon'] = -S*t*exp(-q*t)*norm.cdf(self.d1)\n",
        "      self.greeks['charm'] = q*exp(-q*t)*norm.cdf(self.d1) - exp(-q*t)*norm.pdf(self.d1)*(2*(r-q)*t-self.d2*self.sigma*sqrt(t))/2*t*self.sigma*sqrt(t)\n",
        "\n",
        "    if option_type == 'p':\n",
        "      self.greeks['delta'] = exp(-q*t) * ( norm.cdf(self.d1) - 1 )\n",
        "      self.greeks['theta'] = 1/365 * (-exp(-q*t)*(S*norm.pdf(self.d1)*self.sigma)/(2*sqrt(t)) + r*K*exp(-r*t)*norm.cdf(-self.d2) - q*S*exp(-q*t)*norm.cdf(-self.d1))\n",
        "      self.greeks['rho'] = -K*t*exp(-r*t)*norm.cdf(-self.d2)\n",
        "      self.greeks['epsilon'] = S*t*exp(-q*t)*norm.cdf(-self.d1)\n",
        "      self.greeks['charm'] = -q*exp(-q*t)*norm.cdf(-self.d1) - exp(-q*t)*norm.pdf(self.d1)*(2*(r-q)*t-self.d2*self.sigma*sqrt(t))/2*t*self.sigma*sqrt(t)\n",
        "    \n",
        "    self.greeks['lambda'] = self.greeks['delta'] * S / self.P\n",
        "\n",
        "    self.S, self.K, self.t, self.r, self.q = S, K, t, r, q\n",
        "\n",
        "    for greek in self.greeks.keys():\n",
        "      self.greeks[greek] = round(self.greeks[greek],3)"
      ],
      "execution_count": 3,
      "outputs": []
    },
    {
      "cell_type": "code",
      "metadata": {
        "colab": {
          "base_uri": "https://localhost:8080/"
        },
        "id": "VbAHJ8cufXrj",
        "outputId": "b5c0322a-9a55-4dd2-8ee6-1d456a9976aa"
      },
      "source": [
        "disney_call = Option(option_type='c', S=52.35, K=60, t=87/365, r=0.01, q=0.018, P=0.5)\n",
        "disney_call.iv"
      ],
      "execution_count": 9,
      "outputs": [
        {
          "output_type": "execute_result",
          "data": {
            "text/plain": [
              "0.261"
            ]
          },
          "metadata": {},
          "execution_count": 9
        }
      ]
    },
    {
      "cell_type": "code",
      "metadata": {
        "colab": {
          "base_uri": "https://localhost:8080/"
        },
        "id": "LZSlzLRYfaP0",
        "outputId": "5a9019c7-1da3-4d08-cc7a-cb0b101fcdde"
      },
      "source": [
        "walmart_call = Option(option_type='c', S=52.35, K=60, t=87/365, r=0.01, q=0.018, sigma=0.261)\n",
        "walmart_call.P"
      ],
      "execution_count": 15,
      "outputs": [
        {
          "output_type": "execute_result",
          "data": {
            "text/plain": [
              "0.5"
            ]
          },
          "metadata": {},
          "execution_count": 15
        }
      ]
    },
    {
      "cell_type": "code",
      "metadata": {
        "colab": {
          "base_uri": "https://localhost:8080/"
        },
        "id": "OK6NzdYPhkju",
        "outputId": "a9669ea0-d783-4991-ef49-5ad29ce6becf"
      },
      "source": [
        "walmart_call.greeks"
      ],
      "execution_count": 17,
      "outputs": [
        {
          "output_type": "execute_result",
          "data": {
            "text/plain": [
              "{'charm': 0.002,\n",
              " 'delta': 0.153,\n",
              " 'epsilon': -1.907,\n",
              " 'gamma': 0.035,\n",
              " 'lambda': 16.0,\n",
              " 'rho': 1.787,\n",
              " 'theta': -0.009,\n",
              " 'vanna': 1.038,\n",
              " 'vega': 0.06}"
            ]
          },
          "metadata": {},
          "execution_count": 17
        }
      ]
    },
    {
      "cell_type": "code",
      "metadata": {
        "id": "wmeFS9TrhmqG"
      },
      "source": [
        ""
      ],
      "execution_count": null,
      "outputs": []
    }
  ]
}